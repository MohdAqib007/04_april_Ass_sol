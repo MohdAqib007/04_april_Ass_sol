{
 "cells": [
  {
   "cell_type": "code",
   "execution_count": 1,
   "id": "aa5e1d0b-2b41-43e5-a3b4-919bfbaae544",
   "metadata": {},
   "outputs": [],
   "source": [
    "#Q1. Ans-\n",
    "l = []"
   ]
  },
  {
   "cell_type": "code",
   "execution_count": 2,
   "id": "a5ca9d67-9c74-4a26-acb6-ef0e4842a0d9",
   "metadata": {},
   "outputs": [
    {
     "data": {
      "text/plain": [
       "[]"
      ]
     },
     "execution_count": 2,
     "metadata": {},
     "output_type": "execute_result"
    }
   ],
   "source": [
    "l"
   ]
  },
  {
   "cell_type": "code",
   "execution_count": 3,
   "id": "5c7a3ca3-f161-4768-b9a7-2fd96288bf4c",
   "metadata": {},
   "outputs": [],
   "source": [
    "#Q2. Ans-\n",
    "l = [1,2,3,5,6]"
   ]
  },
  {
   "cell_type": "code",
   "execution_count": 4,
   "id": "f1d1a51f-0901-4f75-a982-b4439839787c",
   "metadata": {},
   "outputs": [],
   "source": [
    "l.append(9)"
   ]
  },
  {
   "cell_type": "code",
   "execution_count": 5,
   "id": "f9aa90a3-797f-4f0c-8ec7-3e8328a1179c",
   "metadata": {},
   "outputs": [
    {
     "data": {
      "text/plain": [
       "[1, 2, 3, 5, 6, 9]"
      ]
     },
     "execution_count": 5,
     "metadata": {},
     "output_type": "execute_result"
    }
   ],
   "source": [
    "l"
   ]
  },
  {
   "cell_type": "code",
   "execution_count": 6,
   "id": "5a49c645-40a6-4bf2-b8b5-390a9f07d6f3",
   "metadata": {},
   "outputs": [
    {
     "data": {
      "text/plain": [
       "9"
      ]
     },
     "execution_count": 6,
     "metadata": {},
     "output_type": "execute_result"
    }
   ],
   "source": [
    "#Q3. Ans-\n",
    "l[-1]"
   ]
  },
  {
   "cell_type": "code",
   "execution_count": 7,
   "id": "20ea2ba6-91b1-42ef-bd5d-87ab79a2dbc4",
   "metadata": {},
   "outputs": [
    {
     "data": {
      "text/plain": [
       "[9, 6, 5, 3, 2, 1]"
      ]
     },
     "execution_count": 7,
     "metadata": {},
     "output_type": "execute_result"
    }
   ],
   "source": [
    "#Q.4 Ans-\n",
    "l[::-1]"
   ]
  },
  {
   "cell_type": "code",
   "execution_count": 10,
   "id": "70c4e73f-9f68-4d0c-96c2-3326a831c799",
   "metadata": {},
   "outputs": [
    {
     "data": {
      "text/plain": [
       "[1, 2, 3, 5, 6, 9]"
      ]
     },
     "execution_count": 10,
     "metadata": {},
     "output_type": "execute_result"
    }
   ],
   "source": [
    "#Q.5 Ans-\n",
    "\n",
    "l.sort()\n",
    "l"
   ]
  },
  {
   "cell_type": "code",
   "execution_count": 11,
   "id": "456e78c5-e976-42c2-9b4a-296b81a9eeac",
   "metadata": {},
   "outputs": [],
   "source": [
    "#Q6. Ans-\n",
    "l1 = [\"3 idiot\", \"KGF\", \"Vikram\"]"
   ]
  },
  {
   "cell_type": "code",
   "execution_count": 12,
   "id": "30c962cc-9fe0-46f8-9abc-df1062cb448a",
   "metadata": {},
   "outputs": [
    {
     "data": {
      "text/plain": [
       "'KGF'"
      ]
     },
     "execution_count": 12,
     "metadata": {},
     "output_type": "execute_result"
    }
   ],
   "source": [
    "l1[1]"
   ]
  },
  {
   "cell_type": "code",
   "execution_count": 16,
   "id": "14c9cf33-5821-4a32-a254-d6545894d91a",
   "metadata": {},
   "outputs": [],
   "source": [
    "#Q7. Ans-\n",
    "l2= [\"dog\", \"cow\", \"lion\", \"panther\"]"
   ]
  },
  {
   "cell_type": "code",
   "execution_count": 17,
   "id": "7e5ced60-158f-4ccc-9d00-5206138156b6",
   "metadata": {},
   "outputs": [],
   "source": [
    "l2.append(\"wolf\")"
   ]
  },
  {
   "cell_type": "code",
   "execution_count": 18,
   "id": "19c8334a-8160-47f7-bdcb-1319a2d8d0a0",
   "metadata": {},
   "outputs": [
    {
     "data": {
      "text/plain": [
       "['dog', 'cow', 'lion', 'panther', 'wolf']"
      ]
     },
     "execution_count": 18,
     "metadata": {},
     "output_type": "execute_result"
    }
   ],
   "source": [
    "l2"
   ]
  },
  {
   "cell_type": "code",
   "execution_count": 20,
   "id": "c885768b-4f26-49d6-b71a-c69c2e590854",
   "metadata": {},
   "outputs": [],
   "source": [
    "#Q8. Ans-\n",
    "my_cities = [\"delhi\", \"lucknow\", \"jaipur\", \"moradabad\"]"
   ]
  },
  {
   "cell_type": "code",
   "execution_count": 21,
   "id": "f311c78e-5ba4-46c8-a244-9b3e7e59a9e7",
   "metadata": {},
   "outputs": [
    {
     "data": {
      "text/plain": [
       "2"
      ]
     },
     "execution_count": 21,
     "metadata": {},
     "output_type": "execute_result"
    }
   ],
   "source": [
    "my_cities.index(\"jaipur\")"
   ]
  },
  {
   "cell_type": "code",
   "execution_count": null,
   "id": "4f1684d9-558d-4062-b0ef-a2997a45457a",
   "metadata": {},
   "outputs": [],
   "source": []
  }
 ],
 "metadata": {
  "kernelspec": {
   "display_name": "Python 3 (ipykernel)",
   "language": "python",
   "name": "python3"
  },
  "language_info": {
   "codemirror_mode": {
    "name": "ipython",
    "version": 3
   },
   "file_extension": ".py",
   "mimetype": "text/x-python",
   "name": "python",
   "nbconvert_exporter": "python",
   "pygments_lexer": "ipython3",
   "version": "3.10.8"
  }
 },
 "nbformat": 4,
 "nbformat_minor": 5
}
